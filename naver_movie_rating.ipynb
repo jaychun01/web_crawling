{
 "cells": [
  {
   "cell_type": "code",
   "execution_count": 260,
   "metadata": {},
   "outputs": [],
   "source": [
    "import requests\n",
    "from selenium import webdriver\n",
    "from bs4 import BeautifulSoup\n",
    "import pandas as pd\n",
    "import numpy as np\n",
    "import time\n",
    "import os\n",
    "from tqdm import tqdm_notebook as tqdm"
   ]
  },
  {
   "cell_type": "code",
   "execution_count": 261,
   "metadata": {},
   "outputs": [],
   "source": [
    "chrome_options = webdriver.ChromeOptions()\n",
    "chrome_options.add_argument('--incognito')\n",
    "driver = webdriver.Chrome(chrome_options=chrome_options)"
   ]
  },
  {
   "cell_type": "code",
   "execution_count": 262,
   "metadata": {},
   "outputs": [
    {
     "name": "stdout",
     "output_type": "stream",
     "text": [
      "영화 이름을 입력하세요.코코\n"
     ]
    }
   ],
   "source": [
    "movie_name = input(\"영화 이름을 입력하세요.\")"
   ]
  },
  {
   "cell_type": "code",
   "execution_count": 263,
   "metadata": {},
   "outputs": [],
   "source": [
    "movie_start_url = \"https://movie.naver.com/\"\n",
    "driver.get(movie_start_url)\n",
    "time.sleep(0.5)\n",
    "driver.find_element_by_xpath('//*[@id=\"ipt_tx_srch\"]').send_keys(movie_name)\n",
    "time.sleep(0.2)\n",
    "driver.find_element_by_xpath('//*[@id=\"jAutoMV\"]/ul/li[1]/a').click()\n",
    "time.sleep(0.2)\n",
    "driver.find_element_by_xpath('//*[@id=\"movieEndTabMenu\"]/li[5]/a').click()\n",
    "time.sleep(0.2)"
   ]
  },
  {
   "cell_type": "code",
   "execution_count": 264,
   "metadata": {},
   "outputs": [],
   "source": [
    "a = driver.find_element_by_xpath('//*[@id=\"pointAfterListIframe\"]')\n",
    "basic_url = a.get_attribute(\"src\")\n",
    "start_url = basic_url + '&page=1'"
   ]
  },
  {
   "cell_type": "code",
   "execution_count": 265,
   "metadata": {},
   "outputs": [],
   "source": [
    "driver.get(start_url)"
   ]
  },
  {
   "cell_type": "code",
   "execution_count": 266,
   "metadata": {},
   "outputs": [
    {
     "data": {
      "text/plain": [
       "1396"
      ]
     },
     "execution_count": 266,
     "metadata": {},
     "output_type": "execute_result"
    }
   ],
   "source": [
    "import math\n",
    "count = driver.find_element_by_xpath('/html/body/div/div/div[4]/strong/em').text\n",
    "count = int(count.replace(\",\", \"\"))\n",
    "pages = math.ceil(count/10)\n",
    "pages"
   ]
  },
  {
   "cell_type": "code",
   "execution_count": 267,
   "metadata": {},
   "outputs": [
    {
     "data": {
      "application/vnd.jupyter.widget-view+json": {
       "model_id": "08dc50a530d741f7b3380977cd684e5e",
       "version_major": 2,
       "version_minor": 0
      },
      "text/html": [
       "<p>Failed to display Jupyter Widget of type <code>HBox</code>.</p>\n",
       "<p>\n",
       "  If you're reading this message in the Jupyter Notebook or JupyterLab Notebook, it may mean\n",
       "  that the widgets JavaScript is still loading. If this message persists, it\n",
       "  likely means that the widgets JavaScript library is either not installed or\n",
       "  not enabled. See the <a href=\"https://ipywidgets.readthedocs.io/en/stable/user_install.html\">Jupyter\n",
       "  Widgets Documentation</a> for setup instructions.\n",
       "</p>\n",
       "<p>\n",
       "  If you're reading this message in another frontend (for example, a static\n",
       "  rendering on GitHub or <a href=\"https://nbviewer.jupyter.org/\">NBViewer</a>),\n",
       "  it may mean that your frontend doesn't currently support widgets.\n",
       "</p>\n"
      ],
      "text/plain": [
       "HBox(children=(IntProgress(value=0, max=1395), HTML(value='')))"
      ]
     },
     "metadata": {},
     "output_type": "display_data"
    },
    {
     "name": "stdout",
     "output_type": "stream",
     "text": [
      "\n"
     ]
    }
   ],
   "source": [
    "ratings = []\n",
    "contents =[]\n",
    "agree = []\n",
    "disagree = []\n",
    "date = []\n",
    "\n",
    "for page in tqdm(range(1, pages)):\n",
    "    url = basic_url + '&page=' + str(page)\n",
    "    driver.get(url)\n",
    "    for i in range(1,11):\n",
    "        xpath = '/html/body/div/div/div[6]/ul/li[' + str(i) + ']'\n",
    "        ratings.append(driver.find_element_by_xpath(xpath + '/div[1]/em').text)\n",
    "        contents.append(driver.find_element_by_xpath(xpath + '/div[2]/p').text)\n",
    "        agree.append(driver.find_element_by_xpath(xpath + '/div[3]/strong[1]/span').text)\n",
    "        disagree.append(driver.find_element_by_xpath(xpath + '/div[3]/strong[2]/span').text)\n",
    "        date.append(driver.find_element_by_xpath(xpath + '/div[2]/dl/dt/em[2]').text)\n",
    "\n",
    "driver.close()"
   ]
  },
  {
   "cell_type": "code",
   "execution_count": 268,
   "metadata": {},
   "outputs": [],
   "source": [
    "df = pd.DataFrame({\"ratings\" :ratings, \"contents\" :contents, \"agree\" :agree, \"disagree\":disagree, \"date\":date})\n",
    "df[\"movie\"] = movie_name\n",
    "df = df[[\"movie\", \"ratings\", \"contents\", \"agree\", \"disagree\", \"date\"]]"
   ]
  },
  {
   "cell_type": "code",
   "execution_count": 269,
   "metadata": {},
   "outputs": [
    {
     "data": {
      "text/html": [
       "<div>\n",
       "<style scoped>\n",
       "    .dataframe tbody tr th:only-of-type {\n",
       "        vertical-align: middle;\n",
       "    }\n",
       "\n",
       "    .dataframe tbody tr th {\n",
       "        vertical-align: top;\n",
       "    }\n",
       "\n",
       "    .dataframe thead th {\n",
       "        text-align: right;\n",
       "    }\n",
       "</style>\n",
       "<table border=\"1\" class=\"dataframe\">\n",
       "  <thead>\n",
       "    <tr style=\"text-align: right;\">\n",
       "      <th></th>\n",
       "      <th>movie</th>\n",
       "      <th>ratings</th>\n",
       "      <th>contents</th>\n",
       "      <th>agree</th>\n",
       "      <th>disagree</th>\n",
       "      <th>date</th>\n",
       "    </tr>\n",
       "  </thead>\n",
       "  <tbody>\n",
       "    <tr>\n",
       "      <th>0</th>\n",
       "      <td>코코</td>\n",
       "      <td>9</td>\n",
       "      <td>먼저 떠난 우리 아들도 저렇게 멋진데서 잘 지내길..평생 기억할께 꼭 다시 만나자</td>\n",
       "      <td>11012</td>\n",
       "      <td>290</td>\n",
       "      <td>2018.01.12 17:00</td>\n",
       "    </tr>\n",
       "    <tr>\n",
       "      <th>1</th>\n",
       "      <td>코코</td>\n",
       "      <td>10</td>\n",
       "      <td>박평식 : \"따뜻해, 삶을 껴안고 다독이는 죽음\" 박평식 평론가의 평점이 이렇게 공...</td>\n",
       "      <td>3280</td>\n",
       "      <td>192</td>\n",
       "      <td>2018.01.11 09:04</td>\n",
       "    </tr>\n",
       "    <tr>\n",
       "      <th>2</th>\n",
       "      <td>코코</td>\n",
       "      <td>10</td>\n",
       "      <td>'신과 함께'와는 격이 다른 저승영화</td>\n",
       "      <td>3131</td>\n",
       "      <td>262</td>\n",
       "      <td>2018.01.11 22:10</td>\n",
       "    </tr>\n",
       "    <tr>\n",
       "      <th>3</th>\n",
       "      <td>코코</td>\n",
       "      <td>10</td>\n",
       "      <td>관람객사람이 진정으로 죽는 순간은 사랑하는 사람에게 잊혀졌을때..사랑하는 사람들을 ...</td>\n",
       "      <td>2878</td>\n",
       "      <td>129</td>\n",
       "      <td>2018.01.11 12:14</td>\n",
       "    </tr>\n",
       "    <tr>\n",
       "      <th>4</th>\n",
       "      <td>코코</td>\n",
       "      <td>10</td>\n",
       "      <td>내일 죽는다면 오늘 봐야할 영화</td>\n",
       "      <td>2477</td>\n",
       "      <td>186</td>\n",
       "      <td>2018.01.11 09:18</td>\n",
       "    </tr>\n",
       "    <tr>\n",
       "      <th>5</th>\n",
       "      <td>코코</td>\n",
       "      <td>10</td>\n",
       "      <td>사람은 3번 죽는다.숨이 멎는 순간 생물학 적으로 죽고, 장례식에 온 하객들이 떠나...</td>\n",
       "      <td>2011</td>\n",
       "      <td>37</td>\n",
       "      <td>2018.01.12 23:04</td>\n",
       "    </tr>\n",
       "    <tr>\n",
       "      <th>6</th>\n",
       "      <td>코코</td>\n",
       "      <td>9</td>\n",
       "      <td>픽사는 우리를 배신하지 않아...</td>\n",
       "      <td>2030</td>\n",
       "      <td>93</td>\n",
       "      <td>2018.01.11 09:09</td>\n",
       "    </tr>\n",
       "    <tr>\n",
       "      <th>7</th>\n",
       "      <td>코코</td>\n",
       "      <td>10</td>\n",
       "      <td>마지막에 코코 할머니 손잡고 울면서 기억해줘 노래부를때 정말 심각하게 슬펐네요...ㅠㅠ</td>\n",
       "      <td>1666</td>\n",
       "      <td>37</td>\n",
       "      <td>2018.01.11 16:05</td>\n",
       "    </tr>\n",
       "    <tr>\n",
       "      <th>8</th>\n",
       "      <td>코코</td>\n",
       "      <td>10</td>\n",
       "      <td>픽사 역대급 애니다... 평식이도 8점줬다? 긴말 필요없다 이건 영화관 꼭 가서 보...</td>\n",
       "      <td>1718</td>\n",
       "      <td>101</td>\n",
       "      <td>2018.01.11 09:02</td>\n",
       "    </tr>\n",
       "    <tr>\n",
       "      <th>9</th>\n",
       "      <td>코코</td>\n",
       "      <td>8</td>\n",
       "      <td>관람객기억해줘 노래 나와서 울고있는데 아들이 옆에서 팝콘 어딨어! 해서 산통깨짐 너...</td>\n",
       "      <td>1528</td>\n",
       "      <td>108</td>\n",
       "      <td>2018.01.12 18:24</td>\n",
       "    </tr>\n",
       "    <tr>\n",
       "      <th>10</th>\n",
       "      <td>코코</td>\n",
       "      <td>10</td>\n",
       "      <td>관람객약30분간 겨울왕국이 나와 지루했어요~~하지만 코코는 정말 최고의 영화였습니다~^^</td>\n",
       "      <td>1684</td>\n",
       "      <td>326</td>\n",
       "      <td>2018.01.11 15:00</td>\n",
       "    </tr>\n",
       "    <tr>\n",
       "      <th>11</th>\n",
       "      <td>코코</td>\n",
       "      <td>10</td>\n",
       "      <td>진짜 픽사영화를 보면 인생이 뭔지 다시 생각하게 된다</td>\n",
       "      <td>1128</td>\n",
       "      <td>42</td>\n",
       "      <td>2018.01.11 09:31</td>\n",
       "    </tr>\n",
       "    <tr>\n",
       "      <th>12</th>\n",
       "      <td>코코</td>\n",
       "      <td>10</td>\n",
       "      <td>remember me... 내가 나중에 죽는다면 사후세계에 갔을때 울엄마아빠가 나 ...</td>\n",
       "      <td>1062</td>\n",
       "      <td>17</td>\n",
       "      <td>2018.01.11 22:01</td>\n",
       "    </tr>\n",
       "    <tr>\n",
       "      <th>13</th>\n",
       "      <td>코코</td>\n",
       "      <td>10</td>\n",
       "      <td>정말 디즈니의 저의 꿈과 희망입니다 ㅠㅠㅠㅠ여러번 코코 꼭 봐주세요 진쩌 감동 그 ...</td>\n",
       "      <td>1055</td>\n",
       "      <td>75</td>\n",
       "      <td>2018.01.11 09:01</td>\n",
       "    </tr>\n",
       "    <tr>\n",
       "      <th>14</th>\n",
       "      <td>코코</td>\n",
       "      <td>10</td>\n",
       "      <td>제일 아름답고 제일 반짝거리는 사후세계 이야기. 역시 나의 꿈과 희망 사랑 상상의 ...</td>\n",
       "      <td>949</td>\n",
       "      <td>43</td>\n",
       "      <td>2018.01.11 09:02</td>\n",
       "    </tr>\n",
       "    <tr>\n",
       "      <th>15</th>\n",
       "      <td>코코</td>\n",
       "      <td>10</td>\n",
       "      <td>아이 재미를 위해 갔다가 어른이 감동받는 영화</td>\n",
       "      <td>919</td>\n",
       "      <td>30</td>\n",
       "      <td>2018.01.11 10:23</td>\n",
       "    </tr>\n",
       "    <tr>\n",
       "      <th>16</th>\n",
       "      <td>코코</td>\n",
       "      <td>10</td>\n",
       "      <td>제목이 왜 코코인지 알게 된 순간 눈물이</td>\n",
       "      <td>875</td>\n",
       "      <td>16</td>\n",
       "      <td>2018.01.13 08:34</td>\n",
       "    </tr>\n",
       "    <tr>\n",
       "      <th>17</th>\n",
       "      <td>코코</td>\n",
       "      <td>10</td>\n",
       "      <td>관람객역시 믿고 볼 애니메이션. . . 노래가 아직도 맴돈다.. .ㅠㅠ 스토리도 잘...</td>\n",
       "      <td>633</td>\n",
       "      <td>22</td>\n",
       "      <td>2018.01.11 11:01</td>\n",
       "    </tr>\n",
       "    <tr>\n",
       "      <th>18</th>\n",
       "      <td>코코</td>\n",
       "      <td>10</td>\n",
       "      <td>박평식이 8점주면 말 다한거 아닙니까?</td>\n",
       "      <td>628</td>\n",
       "      <td>44</td>\n",
       "      <td>2018.01.11 10:49</td>\n",
       "    </tr>\n",
       "    <tr>\n",
       "      <th>19</th>\n",
       "      <td>코코</td>\n",
       "      <td>10</td>\n",
       "      <td>관람객근래 본 영화 중에 스토리가 가장 훌륭한 것 같아용</td>\n",
       "      <td>579</td>\n",
       "      <td>17</td>\n",
       "      <td>2018.01.11 12:49</td>\n",
       "    </tr>\n",
       "  </tbody>\n",
       "</table>\n",
       "</div>"
      ],
      "text/plain": [
       "   movie ratings                                           contents  agree  \\\n",
       "0     코코       9      먼저 떠난 우리 아들도 저렇게 멋진데서 잘 지내길..평생 기억할께 꼭 다시 만나자  11012   \n",
       "1     코코      10  박평식 : \"따뜻해, 삶을 껴안고 다독이는 죽음\" 박평식 평론가의 평점이 이렇게 공...   3280   \n",
       "2     코코      10                               '신과 함께'와는 격이 다른 저승영화   3131   \n",
       "3     코코      10  관람객사람이 진정으로 죽는 순간은 사랑하는 사람에게 잊혀졌을때..사랑하는 사람들을 ...   2878   \n",
       "4     코코      10                                  내일 죽는다면 오늘 봐야할 영화   2477   \n",
       "5     코코      10  사람은 3번 죽는다.숨이 멎는 순간 생물학 적으로 죽고, 장례식에 온 하객들이 떠나...   2011   \n",
       "6     코코       9                                 픽사는 우리를 배신하지 않아...   2030   \n",
       "7     코코      10   마지막에 코코 할머니 손잡고 울면서 기억해줘 노래부를때 정말 심각하게 슬펐네요...ㅠㅠ   1666   \n",
       "8     코코      10  픽사 역대급 애니다... 평식이도 8점줬다? 긴말 필요없다 이건 영화관 꼭 가서 보...   1718   \n",
       "9     코코       8  관람객기억해줘 노래 나와서 울고있는데 아들이 옆에서 팝콘 어딨어! 해서 산통깨짐 너...   1528   \n",
       "10    코코      10  관람객약30분간 겨울왕국이 나와 지루했어요~~하지만 코코는 정말 최고의 영화였습니다~^^   1684   \n",
       "11    코코      10                      진짜 픽사영화를 보면 인생이 뭔지 다시 생각하게 된다   1128   \n",
       "12    코코      10  remember me... 내가 나중에 죽는다면 사후세계에 갔을때 울엄마아빠가 나 ...   1062   \n",
       "13    코코      10  정말 디즈니의 저의 꿈과 희망입니다 ㅠㅠㅠㅠ여러번 코코 꼭 봐주세요 진쩌 감동 그 ...   1055   \n",
       "14    코코      10  제일 아름답고 제일 반짝거리는 사후세계 이야기. 역시 나의 꿈과 희망 사랑 상상의 ...    949   \n",
       "15    코코      10                          아이 재미를 위해 갔다가 어른이 감동받는 영화    919   \n",
       "16    코코      10                             제목이 왜 코코인지 알게 된 순간 눈물이    875   \n",
       "17    코코      10  관람객역시 믿고 볼 애니메이션. . . 노래가 아직도 맴돈다.. .ㅠㅠ 스토리도 잘...    633   \n",
       "18    코코      10                              박평식이 8점주면 말 다한거 아닙니까?    628   \n",
       "19    코코      10                    관람객근래 본 영화 중에 스토리가 가장 훌륭한 것 같아용    579   \n",
       "\n",
       "   disagree              date  \n",
       "0       290  2018.01.12 17:00  \n",
       "1       192  2018.01.11 09:04  \n",
       "2       262  2018.01.11 22:10  \n",
       "3       129  2018.01.11 12:14  \n",
       "4       186  2018.01.11 09:18  \n",
       "5        37  2018.01.12 23:04  \n",
       "6        93  2018.01.11 09:09  \n",
       "7        37  2018.01.11 16:05  \n",
       "8       101  2018.01.11 09:02  \n",
       "9       108  2018.01.12 18:24  \n",
       "10      326  2018.01.11 15:00  \n",
       "11       42  2018.01.11 09:31  \n",
       "12       17  2018.01.11 22:01  \n",
       "13       75  2018.01.11 09:01  \n",
       "14       43  2018.01.11 09:02  \n",
       "15       30  2018.01.11 10:23  \n",
       "16       16  2018.01.13 08:34  \n",
       "17       22  2018.01.11 11:01  \n",
       "18       44  2018.01.11 10:49  \n",
       "19       17  2018.01.11 12:49  "
      ]
     },
     "execution_count": 269,
     "metadata": {},
     "output_type": "execute_result"
    }
   ],
   "source": [
    "df.head(20)"
   ]
  },
  {
   "cell_type": "code",
   "execution_count": 270,
   "metadata": {},
   "outputs": [],
   "source": [
    "df.to_excel(movie_name + \".xlsx\")"
   ]
  },
  {
   "cell_type": "code",
   "execution_count": null,
   "metadata": {},
   "outputs": [],
   "source": []
  }
 ],
 "metadata": {
  "kernelspec": {
   "display_name": "Python 3",
   "language": "python",
   "name": "python3"
  },
  "language_info": {
   "codemirror_mode": {
    "name": "ipython",
    "version": 3
   },
   "file_extension": ".py",
   "mimetype": "text/x-python",
   "name": "python",
   "nbconvert_exporter": "python",
   "pygments_lexer": "ipython3",
   "version": "3.6.4"
  }
 },
 "nbformat": 4,
 "nbformat_minor": 2
}
