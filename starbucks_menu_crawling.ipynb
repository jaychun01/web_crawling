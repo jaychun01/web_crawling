{
 "cells": [
  {
   "cell_type": "code",
   "execution_count": 163,
   "metadata": {
    "collapsed": true
   },
   "outputs": [],
   "source": [
    "import requests\n",
    "from selenium import webdriver\n",
    "from bs4 import BeautifulSoup\n",
    "import pandas as pd\n",
    "import numpy as np\n",
    "import time\n",
    "import os"
   ]
  },
  {
   "cell_type": "code",
   "execution_count": 157,
   "metadata": {
    "collapsed": true
   },
   "outputs": [],
   "source": [
    "menu_url_list = [\"http://www.istarbucks.co.kr/menu/drink_list.do?CATE_CD=product_cold_brew\",\n",
    "            \"http://www.istarbucks.co.kr/menu/drink_list.do?CATE_CD=product_brood\",\n",
    "            \"http://www.istarbucks.co.kr/menu/drink_list.do?CATE_CD=product_espresso\",\n",
    "            \"http://www.istarbucks.co.kr/menu/drink_list.do?CATE_CD=product_frappuccino\",\n",
    "            \"http://www.istarbucks.co.kr/menu/drink_list.do?CATE_CD=product_blended\",\n",
    "            \"http://www.istarbucks.co.kr/menu/drink_list.do?CATE_CD=product_fizzo\",\n",
    "            \"http://www.istarbucks.co.kr/menu/drink_list.do?CATE_CD=product_tea\",\n",
    "            \"http://www.istarbucks.co.kr/menu/drink_list.do?CATE_CD=product_etc\",\n",
    "            \"http://www.istarbucks.co.kr/menu/drink_list.do?CATE_CD=product_juice\"]\n",
    "menu = [\"콜드브루\", \"브루드\", \"에스프레소\", \"프라푸치노\", \"블렌디드\", \"피지오\", \"티\", \"기타\", \"쥬스\"]"
   ]
  },
  {
   "cell_type": "code",
   "execution_count": 158,
   "metadata": {},
   "outputs": [
    {
     "name": "stdout",
     "output_type": "stream",
     "text": [
      "1. 콜드브루\n",
      "2. 브루드\n",
      "3. 에스프레소\n",
      "4. 프라푸치노\n",
      "5. 블렌디드\n",
      "6. 피지오\n",
      "7. 티\n",
      "8. 기타\n",
      "9. 쥬스\n",
      "메뉴 번호를 입력하세요. 7\n"
     ]
    }
   ],
   "source": [
    "print(\"1. 콜드브루\")\n",
    "print(\"2. 브루드\")\n",
    "print(\"3. 에스프레소\")\n",
    "print(\"4. 프라푸치노\")\n",
    "print(\"5. 블렌디드\")\n",
    "print(\"6. 피지오\")\n",
    "print(\"7. 티\")\n",
    "print(\"8. 기타\")\n",
    "print(\"9. 쥬스\")\n",
    "num = int(input(\"메뉴 번호를 입력하세요. \"))\n",
    "menu_url = menu_url_list[num-1]\n",
    "kind = menu[num-1] "
   ]
  },
  {
   "cell_type": "code",
   "execution_count": 159,
   "metadata": {},
   "outputs": [],
   "source": [
    "CDpath = \"/Users/sinsanghun/Documents/pycharm/seleniumTest/chromedriver\"\n",
    "driver = webdriver.Chrome(CDpath)\n",
    "driver.get(menu_url)\n",
    "html = driver.page_source\n",
    "soup = BeautifulSoup(html, \"lxml\")"
   ]
  },
  {
   "cell_type": "code",
   "execution_count": 160,
   "metadata": {},
   "outputs": [],
   "source": [
    "class_tag = menu_url.split(\"CD=\")[1]\n",
    "html = soup.find_all(\"ul\", class_=class_tag)[0]\n",
    "coffee_list = html.find_all(\"li\", class_=\"menuDataSet\")"
   ]
  },
  {
   "cell_type": "code",
   "execution_count": 161,
   "metadata": {},
   "outputs": [],
   "source": [
    "name = []\n",
    "starbucks_url = [] \n",
    "image_url = [] \n",
    "basic_url = \"http://www.istarbucks.co.kr/menu/drink_view.do?product_cd=\"\n",
    "\n",
    "for i in range(len(coffee_list)):\n",
    "    name.append(coffee_list[i].find(\"img\")[\"alt\"])\n",
    "    starbucks_url.append(basic_url + coffee_list[i].find(\"a\")[\"prod\"])\n",
    "    image_url.append(coffee_list[i].find(\"img\")[\"src\"])\n",
    "    "
   ]
  },
  {
   "cell_type": "code",
   "execution_count": 166,
   "metadata": {
    "scrolled": false
   },
   "outputs": [],
   "source": [
    "name_eng = []\n",
    "desc1 = []\n",
    "size = []\n",
    "kcal = []\n",
    "sodium = []\n",
    "saturated = []\n",
    "sugar = []\n",
    "protein = []\n",
    "caffeine = []\n",
    "desc2 = []\n",
    "desc3 = []\n",
    "\n",
    "for url in starbucks_url:\n",
    "    driver.get(url)\n",
    "    time.sleep(0.5)\n",
    "    name_eng.append(driver.find_element_by_xpath('//*[@id=\"container\"]/div[2]/div[1]/div[2]/div[1]/h4/span').text)\n",
    "    desc1.append(driver.find_element_by_xpath('//*[@id=\"container\"]/div[2]/div[1]/div[2]/div[1]/p').text)\n",
    "    size.append(driver.find_element_by_xpath('//*[@id=\"product_info01\"]').text)\n",
    "    kcal.append(driver.find_element_by_xpath('//*[@id=\"container\"]/div[2]/div[1]/div[2]/form/fieldset/div/div[2]/ul[1]/li[1]/dl/dd').text)\n",
    "    sodium.append(driver.find_element_by_xpath('//*[@id=\"container\"]/div[2]/div[1]/div[2]/form/fieldset/div/div[2]/ul[2]/li[1]/dl/dd').text)\n",
    "    saturated.append(driver.find_element_by_xpath('//*[@id=\"container\"]/div[2]/div[1]/div[2]/form/fieldset/div/div[2]/ul[1]/li[2]/dl/dd').text)\n",
    "    sugar.append(driver.find_element_by_xpath('//*[@id=\"container\"]/div[2]/div[1]/div[2]/form/fieldset/div/div[2]/ul[2]/li[2]/dl/dd').text)\n",
    "    protein.append(driver.find_element_by_xpath('//*[@id=\"container\"]/div[2]/div[1]/div[2]/form/fieldset/div/div[2]/ul[1]/li[3]/dl/dd').text)\n",
    "    caffeine.append(driver.find_element_by_xpath('//*[@id=\"container\"]/div[2]/div[1]/div[2]/form/fieldset/div/div[2]/ul[2]/li[3]/dl/dd').text)\n",
    "    desc2.append(driver.find_element_by_xpath('//*[@id=\"container\"]/div[2]/div[1]/div[2]/form/fieldset/div/div[3]/p').text)\n",
    "    desc3.append(driver.find_element_by_xpath('//*[@id=\"container\"]/div[2]/div[2]').text)\n",
    "\n",
    "driver.close()"
   ]
  },
  {
   "cell_type": "code",
   "execution_count": 167,
   "metadata": {},
   "outputs": [],
   "source": [
    "df = pd.DataFrame({\"kind\" : kind, \"name\" : name, \"name_eng\" : name_eng,\n",
    "                  \"size\" : size, \"kcal\" : kcal, \"sodium(mg)\" : sodium, \"saturated(g)\" : saturated,\n",
    "                  \"sugar(g)\" : sugar, \"protein(g)\" : protein, \"caffeine(mg)\" : caffeine,\n",
    "                  \"desc1\" : desc1, \"desc2\" : desc2, \"desc3\" : desc3,\n",
    "                  \"starbucks_url\" : starbucks_url, \"image_url\" : image_url}, \n",
    "                  columns = [\"kind\", \"name\", \"name_eng\", \"size\", \"kcal\", \"sodium(mg)\", \"saturated(g)\", \"sugar(g)\", \n",
    "                        \"protein(g)\", \"caffeine(mg)\", \"desc1\", \"desc2\", \"desc3\", \"starbucks_url\", \"image_url\"])"
   ]
  },
  {
   "cell_type": "code",
   "execution_count": 168,
   "metadata": {},
   "outputs": [],
   "source": [
    "df.to_excel(\"스타벅스_\" + kind + \".xlsx\", index=False)"
   ]
  }
 ],
 "metadata": {
  "kernelspec": {
   "display_name": "Python 3",
   "language": "python",
   "name": "python3"
  },
  "language_info": {
   "codemirror_mode": {
    "name": "ipython",
    "version": 3
   },
   "file_extension": ".py",
   "mimetype": "text/x-python",
   "name": "python",
   "nbconvert_exporter": "python",
   "pygments_lexer": "ipython3",
   "version": "3.6.2"
  }
 },
 "nbformat": 4,
 "nbformat_minor": 2
}
